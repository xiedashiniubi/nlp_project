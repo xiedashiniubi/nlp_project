{
 "cells": [
  {
   "cell_type": "markdown",
   "metadata": {},
   "source": [
    "## 搭建一个分词工具\n",
    "\n",
    "###  基于枚举方法来搭建中文分词工具\n",
    "\n",
    "此项目需要的数据：\n",
    "1. 综合类中文词库.xlsx： 包含了中文词，当做词典来用\n",
    "2. 以变量的方式提供了部分unigram概率 word_prob\n",
    "\n",
    "\n",
    "举个例子： 给定词典=[我们 学习 人工 智能 人工智能 未来 是]， 另外我们给定unigram概率：p(我们)=0.25, p(学习)=0.15, p(人工)=0.05, p(智能)=0.1, p(人工智能)=0.2, p(未来)=0.1, p(是)=0.15\n",
    "\n",
    "#### 对于给定字符串：”我们学习人工智能，人工智能是未来“, 找出所有可能的分割方式\n",
    "- [我们，学习，人工智能，人工智能，是，未来]\n",
    "- [我们，学习，人工，智能，人工智能，是，未来]\n",
    "- [我们，学习，人工，智能，人工，智能，是，未来]\n",
    "- [我们，学习，人工智能，人工，智能，是，未来]\n",
    ".......\n",
    "\n",
    "\n",
    "#### 我们也可以计算出每一个切分之后句子的概率\n",
    "- p(我们，学习，人工智能，人工智能，是，未来)= -log p(我们)-log p(学习)-log p(人工智能)-log p(人工智能)-log p(是)-log p(未来)\n",
    "- p(我们，学习，人工，智能，人工智能，是，未来)=-log p(我们)-log p(学习)-log p(人工)-log p(智能)-log p(人工智能)-log p(是)-log p(未来)\n",
    "- p(我们，学习，人工，智能，人工，智能，是，未来)=-log p(我们)-log p(学习)-log p(人工)-log p(智能)-log p(人工)-log p(智能)-log p(是)-log p(未来)\n",
    "- p(我们，学习，人工智能，人工，智能，是，未来)=-log p(我们)-log p(学习)-log p(人工智能)-log p(人工)-log p(智能)-log(是)-log p(未来)\n",
    ".....\n",
    "\n",
    "#### 返回第二步中概率最大的结果"
   ]
  },
  {
   "cell_type": "code",
   "execution_count": 6,
   "metadata": {},
   "outputs": [],
   "source": [
    "class TreeNode(object):\n",
    "    def __init__(self):\n",
    "        self.data = {}\n",
    "        self.prob = 10**-8\n",
    "        self.is_word = False\n",
    "\n",
    "\n",
    "class DictTree(object):\n",
    "    def __init__(self):\n",
    "        self.root = TreeNode()\n",
    "\n",
    "    def insert_data(self, word, prob):\n",
    "        node = self.root\n",
    "        for char in word:\n",
    "            if not node.data.get(char):\n",
    "                node.data[char] = TreeNode()\n",
    "            node = node.data[char]\n",
    "        node.prob = prob\n",
    "        node.is_word = True\n",
    "\n",
    "    def search_data(self, word):\n",
    "        node = self.root\n",
    "        for char in word:\n",
    "            node = node.data.get(char)\n",
    "            if not node:\n",
    "                return TreeNode().prob\n",
    "        return node.prob"
   ]
  },
  {
   "cell_type": "code",
   "execution_count": 2,
   "metadata": {},
   "outputs": [],
   "source": [
    "# 第一步： 从dic.txt中读取所有中文词。\n",
    "import pandas as pd\n",
    "dt = DictTree()\n",
    "# 保存词典库中读取的单词\n",
    "df = pd.read_excel(\"./data/综合类中文词库.xlsx\",header=None, encoding=\"utf8\")\n",
    "for idx in df.index:\n",
    "    data = df.loc[idx][0]\n",
    "    prob = df.loc[idx][2]*(10**-7)\n",
    "    dt.insert_data(data,prob)"
   ]
  },
  {
   "cell_type": "code",
   "execution_count": 7,
   "metadata": {},
   "outputs": [],
   "source": [
    "class Solution(object):\n",
    "    def check(self, s):\n",
    "        dp = [False for i in range(len(s)+1)]\n",
    "        dp[0] = True\n",
    "        for i in range(1, len(s)+1):\n",
    "            for k in range(0, i):\n",
    "                if dp[k] and dt.search_data(s[k:i])!=10**-8:\n",
    "                    dp[i] = True\n",
    "        return dp[len(s)]\n",
    "        \n",
    "    def dfs(self, s, stringlist):\n",
    "        if self.check(s):\n",
    "            if len(s) == 0: Solution.res.append(stringlist[1:])\n",
    "            for i in range(1, len(s)+1):\n",
    "                # 核心代码\n",
    "                if dt.search_data(s[:i])!=10**-8:\n",
    "                    self.dfs(s[i:], stringlist+\" \"+s[:i])\n",
    "    def wordBreak(self, s):\n",
    "        Solution.res = []\n",
    "        self.dfs(s,\"\")\n",
    "        result = [s.split(\" \") for s in Solution.res]\n",
    "        return result"
   ]
  },
  {
   "cell_type": "code",
   "execution_count": 8,
   "metadata": {},
   "outputs": [],
   "source": [
    "## 请编写word_segment_naive函数来实现对输入字符串的分词\n",
    "import numpy as np\n",
    "def word_segment_naive(input_str):\n",
    "    \"\"\"\n",
    "    input_str: 输入字符串   输入格式：“今天天气好”\n",
    "    best_segment: 最好的分词结果  输出格式：[\"今天\"，\"天气\"，\"好\"]\n",
    "    \"\"\"\n",
    "\n",
    "    # 第一步： 计算所有可能的分词结果，要保证每个分完的词存在于词典里，这个结果有可能会非常多。 \n",
    "    slt = Solution()\n",
    "    segments = slt.wordBreak(input_str)  # 存储所有分词的结果。如果次字符串不可能被完全切分，则返回空列表(list)\n",
    "    # 格式为：segments = [[\"今天\"，“天气”，“好”],[\"今天\"，“天“，”气”，“好”],[\"今“，”天\"，“天气”，“好”],...]\n",
    "    best_segment = segments[0]\n",
    "    best_score = np.sum([np.log(dt.search_data(s)) for s in segments[0]])\n",
    "    for seg in segments[1:]:\n",
    "        score = 0\n",
    "        for s in seg:\n",
    "            score += np.log(dt.search_data(s))\n",
    "        if score > best_score:\n",
    "            best_score = score\n",
    "            best_segment = seg\n",
    "    return best_segment      "
   ]
  },
  {
   "cell_type": "code",
   "execution_count": 9,
   "metadata": {},
   "outputs": [
    {
     "name": "stdout",
     "output_type": "stream",
     "text": [
      "['北京', '的', '天气', '真好', '啊']\n",
      "['经常', '有意', '见', '分歧']\n"
     ]
    }
   ],
   "source": [
    "# 测试\n",
    "print(word_segment_naive(\"北京的天气真好啊\"))\n",
    "print(word_segment_naive(\"经常有意见分歧\"))"
   ]
  },
  {
   "cell_type": "markdown",
   "metadata": {},
   "source": [
    "###  基于维特比算法来优化上述流程\n",
    "\n",
    "此项目需要的数据：\n",
    "1. 综合类中文词库.xlsx： 包含了中文词，当做词典来用\n",
    "2. 以变量的方式提供了部分unigram概率word_prob\n",
    "\n",
    "\n",
    "举个例子： 给定词典=[我们 学习 人工 智能 人工智能 未来 是]， 另外我们给定unigram概率：p(我们)=0.25, p(学习)=0.15, p(人工)=0.05, p(智能)=0.1, p(人工智能)=0.2, p(未来)=0.1, p(是)=0.15\n",
    "\n",
    "#### 根据词典，输入的句子和 word_prob来创建带权重的有向图（Directed Graph）\n",
    "有向图的每一条边是一个单词的概率（只要存在于词典里的都可以作为一个合法的单词），这些概率已经给出（存放在word_prob）。\n",
    "\n",
    "####  编写维特比算法（viterebi）算法来找出其中最好的PATH， 也就是最好的句子切分\n",
    "\n",
    "#### 返回结果"
   ]
  },
  {
   "cell_type": "code",
   "execution_count": 363,
   "metadata": {
    "scrolled": true
   },
   "outputs": [],
   "source": [
    "## 编写word_segment_viterbi函数来实现对输入字符串的分词\n",
    "def word_segment_viterbi(input_str):\n",
    "    \"\"\"\n",
    "    1. 基于输入字符串，词典，以及给定的unigram概率来创建DAG(有向图）。\n",
    "    2. 编写维特比算法来寻找最优的PATH\n",
    "    3. 返回分词结果\n",
    "    input_str: 输入字符串   输入格式：“今天天气好”\n",
    "    best_segment: 最好的分词结果  输出格式：[\"今天\"，\"天气\"，\"好\"]\n",
    "    \"\"\"\n",
    "    # 第一步：根据词典，输入的句子，以及给定的unigram概率来创建带权重的有向图（Directed Graph） \n",
    "    # 有向图的每一条边是一个单词的概率（只要存在于词典里的都可以作为一个合法的单词），这些概率在 word_prob，如果不在word_prob里的单词但在\n",
    "    # 词典里存在的，统一用概率值0.00001。\n",
    "    # 注意：思考用什么方式来存储这种有向图比较合适？ 不一定有只有一种方式来存储这种结构。 \n",
    "    graph, route, N = {}, {}, len(input_str)\n",
    "    for n,i in enumerate(input_str):\n",
    "        key, value_list = n, []\n",
    "        for j in range(n, N):\n",
    "            if dt.search_data(input_str[n:j+1]) != 10**-8:\n",
    "                # 计算每个节点由哪些节点到达\n",
    "                value_list.append(j)\n",
    "        if not value_list:\n",
    "            value_list.append(key)\n",
    "        graph[key] = value_list\n",
    "    # 第二步： 利用维特比算法来找出最好的PATH， 这个PATH是P(sentence)最大或者 -log P(sentence)最小的PATH。\n",
    "    # 因为概率过小连乘的时候容易出现溢出，unf的情况 ，hint: 思考为什么不用相乘: p(w1)p(w2)...而是使用negative log sum:  -log(w1)-log(w2)-...\n",
    "    best_route = viterbi_dp(input_str ,graph, route)\n",
    "    # 第三步： 根据最好的PATH, 返回最好的切分\n",
    "    start, cut_list =0, []\n",
    "    for i in range(start, N):\n",
    "        cut_word = input_str[start:best_route[start][1] + 1]\n",
    "        if cut_word:\n",
    "            cut_list.append(cut_word)\n",
    "        if start < N :\n",
    "            start = best_route[start][1] + 1\n",
    "    return cut_list"
   ]
  },
  {
   "cell_type": "code",
   "execution_count": 364,
   "metadata": {},
   "outputs": [],
   "source": [
    "def viterbi_dp(sentence, group, route):\n",
    "    N, route[len(sentence)]= len(sentence),(0,0)\n",
    "    for idx in range(N-1, -1, -1):\n",
    "        all_rout = []\n",
    "        for x in group[idx]:\n",
    "            c_x = -np.log2(dt.search_data(sentence[idx:x+1]))\n",
    "            f_x = route[x+1][0]\n",
    "            all_rout.append((c_x+f_x, x))\n",
    "        route[idx] = min(all_rout)  \n",
    "    return route"
   ]
  },
  {
   "cell_type": "code",
   "execution_count": 365,
   "metadata": {},
   "outputs": [
    {
     "name": "stdout",
     "output_type": "stream",
     "text": [
      "['北京', '的', '天气', '真好', '啊']\n",
      "['今天', '的', '课程', '内容', '很', '有意思']\n",
      "['经常', '有意', '见', '分歧']\n"
     ]
    }
   ],
   "source": [
    "# 测试\n",
    "print(word_segment_naive(\"北京的天气真好啊\"))\n",
    "print(word_segment_naive(\"经常有意见分歧\"))"
   ]
  },
  {
   "cell_type": "code",
   "execution_count": null,
   "metadata": {
    "collapsed": true
   },
   "outputs": [],
   "source": [
    "# 有哪些可以考虑的方法？\n",
    "- 0.目前的概率是不完整的，可以考虑大量的语料库，然后从中计算出每一个词出现的概率，这样更加真实\n",
    "- 1.加入2-gram或者3-gram 语言模型，考虑每个词前后词概率统计，这样让每个词特征更丰富,句子更像一个句子\n",
    "- 2.加入一些平滑项来解决部分为出现的词的对最后结果的干扰\n",
    "- 3.加入词性的信息，让一个句子词性也得符合一个合理的句子"
   ]
  },
  {
   "cell_type": "markdown",
   "metadata": {
    "collapsed": true
   },
   "source": [
    "##  搭建一个简单的问答系统"
   ]
  },
  {
   "cell_type": "markdown",
   "metadata": {},
   "source": [
    "本次项目的目标是搭建一个基于检索式的简单的问答系统。至于什么是检索式的问答系统\n",
    "\n",
    "通过此项目，你将会有机会掌握以下几个知识点：\n",
    "1. 字符串操作   2. 文本预处理技术（词过滤，标准化）   3. 文本的表示（tf-idf, word2vec)  4. 文本相似度计算  5. 文本高效检索\n",
    "\n",
    "此项目需要的数据：\n",
    "1. dev-v2.0.json: 这个数据包含了问题和答案的pair， 但是以JSON格式存在，需要编写parser来提取出里面的问题和答案。 \n",
    "2. glove.6B: 这个文件需要从网上下载，下载地址为：https://nlp.stanford.edu/projects/glove/， 请使用d=100的词向量\n",
    "\n",
    "##### 检索式的问答系统\n",
    "问答系统所需要的数据已经提供，对于每一个问题都可以找得到相应的答案，所以可以理解为每一个样本数据是 <问题、答案>。 那系统的核心是当用户输入一个问题的时候，首先要找到跟这个问题最相近的已经存储在库里的问题，然后直接返回相应的答案即可"
   ]
  },
  {
   "cell_type": "code",
   "execution_count": 2,
   "metadata": {},
   "outputs": [],
   "source": [
    "import json\n",
    "def read_corpus():\n",
    "    \"\"\"\n",
    "    读取给定的语料库，并把问题列表和答案列表分别写入到 qlist, alist 里面。 在此过程中，不用对字符换做任何的处理（这部分需要在 Part 2.3里处理）\n",
    "    qlist = [\"问题1\"， “问题2”， “问题3” ....]\n",
    "    alist = [\"答案1\", \"答案2\", \"答案3\" ....]\n",
    "    务必要让每一个问题和答案对应起来（下标位置一致）\n",
    "    \"\"\"\n",
    "    with open(\"./data/train-v2.0.json\",encoding=\"utf8\")as f:\n",
    "        datas = json.load(f)\n",
    "    qlist, alist = [], []\n",
    "    for dat_p in datas[\"data\"]:\n",
    "        for pg in dat_p[\"paragraphs\"]:\n",
    "            for qa in pg[\"qas\"]:\n",
    "                if qa[\"answers\"] and qa[\"question\"]:\n",
    "                    question, answer =qa[\"question\"], qa[\"answers\"][0][\"text\"]\n",
    "                    qlist.append(question)\n",
    "                    alist.append(answer)\n",
    "    assert len(qlist) == len(alist)  # 确保长度一样\n",
    "    return qlist, alist"
   ]
  },
  {
   "cell_type": "markdown",
   "metadata": {},
   "source": [
    "### 第一部分： 读取文件，并把内容分别写到两个list里（一个list对应问题集，另一个list对应答案集）"
   ]
  },
  {
   "cell_type": "markdown",
   "metadata": {},
   "source": [
    "###  理解数据（可视化分析/统计信息）"
   ]
  },
  {
   "cell_type": "code",
   "execution_count": 3,
   "metadata": {},
   "outputs": [],
   "source": [
    "from collections import Counter\n",
    "import matplotlib.pyplot as plt\n",
    "import numpy as np\n",
    "import itertools\n",
    "# 统计一下在qlist 总共出现了多少个单词？ 总共出现了多少个不同的单词？\n",
    "qlist, alist = read_corpus()\n",
    "word_total = Counter(list(itertools.chain.from_iterable([q.split(\" \") for q in qlist])))"
   ]
  },
  {
   "cell_type": "code",
   "execution_count": 4,
   "metadata": {
    "scrolled": true
   },
   "outputs": [
    {
     "data": {
      "image/png": "[encoded data removed]",
      "text/plain": [
       "<Figure size 1600x400 with 1 Axes>"
      ]
     },
     "metadata": {
      "needs_background": "light"
     },
     "output_type": "display_data"
    }
   ],
   "source": [
    "word_node = sorted(word_total.items(), key=lambda x: x[1], reverse = True)\n",
    "key_list = [w[0] for w in word_node if w[0]][:100]\n",
    "value_list = [w[1] for w in word_node if w[0]][:100]\n",
    "plt.figure(figsize=(20,5),dpi=80)\n",
    "plt.plot(range(len(key_list)),value_list)\n",
    "plt.xticks(range(len(key_list)),key_list,rotation=80)\n",
    "plt.xlabel(\"数据集中出现单词\")\n",
    "plt.ylabel(\"每个单词词频\")\n",
    "plt.title(\"根据词频大小排序的前100个单词的分布情况\")\n",
    "plt.show()\n",
    "\n"
   ]
  },
  {
   "cell_type": "code",
   "execution_count": 5,
   "metadata": {},
   "outputs": [
    {
     "name": "stdout",
     "output_type": "stream",
     "text": [
      "['the', 'What', 'of', 'in', 'to', 'was', 'is', 'did', 'what', 'a']\n",
      "['the', 'of', 'and', 'to', 'a', 'in', 'The', 'or', 'for', 'million']\n"
     ]
    }
   ],
   "source": [
    "# 在qlist和alist里出现次数最多的TOP 10单词分别是什么？ \n",
    "question_words =  Counter(list(itertools.chain.from_iterable([q.split(\" \") for q in qlist])))\n",
    "q_word = sorted(question_words.items(), key=lambda x: x[1], reverse = True)\n",
    "answer_words = Counter(list(itertools.chain.from_iterable([q.split(\" \") for q in alist])))\n",
    "a_word = sorted(answer_words.items(), key=lambda x: x[1], reverse = True)\n",
    "top_q, top_a = [q[0] for q in q_word if q[0]][:10], [a[0] for a in a_word if a[0]][:10]\n",
    "print(top_q)\n",
    "print(top_a)"
   ]
  },
  {
   "cell_type": "code",
   "execution_count": 6,
   "metadata": {},
   "outputs": [],
   "source": [
    "# 对于数字的处理： 分词完只有有些单词可能就是数字比如44，415，把所有这些数字都看成是一个单词，这个新的单词我们可以定义为 \"#number\"\n",
    "def is_number(s):\n",
    "    if \"|\" in s:\n",
    "        return s\n",
    "    try:\n",
    "        float(s)\n",
    "        return True\n",
    "    except ValueError:\n",
    "        pass\n",
    "    try:\n",
    "        import unicodedata\n",
    "        unicodedata.numeric(s)\n",
    "        return True\n",
    "    except (TypeError, ValueError):\n",
    "        pass\n",
    "    return False"
   ]
  },
  {
   "cell_type": "code",
   "execution_count": 7,
   "metadata": {},
   "outputs": [],
   "source": [
    "import re\n",
    "#  3. 去掉一些无用的符号： 比如连续的感叹号！！！， 或者一些奇怪的单词。\n",
    "#  2. 转换成lower_case： 这是一个基本的操作  \n",
    "def sub_word(s):\n",
    "    text = s.lower()\n",
    "    tmp = re.compile(\"[a-zA-Z'0-9\\s]+\").findall(text)\n",
    "    if len(tmp):  \n",
    "        return tmp[0]\n",
    "    else:\n",
    "        return \"\""
   ]
  },
  {
   "cell_type": "markdown",
   "metadata": {},
   "source": [
    "### 文本预处理\n",
    "次部分需要尝试做文本的处理。在这里我们面对的是英文文本，所以任何对英文适合的技术都可以考虑进来。"
   ]
  },
  {
   "cell_type": "code",
   "execution_count": 8,
   "metadata": {},
   "outputs": [],
   "source": [
    "from nltk.corpus import stopwords\n",
    "from nltk.stem.porter import PorterStemmer\n",
    "\n",
    "# 列表总次数\n",
    "question_word_total = sum([q[1] for q in q_word])\n",
    "# 查看占比  question \n",
    "q_count_ratio = {node[0]:\"%.5f\"%(node[1]/question_word_total) for node in q_word}\n",
    "# 低频词\n",
    "q_low_ratio = [node[0] for node in q_word if node[1] <= 13]\n",
    "ps = PorterStemmer()\n",
    "qlist_len = len(qlist)\n",
    "# 文本预处理函数\n",
    "def text_preprocessing(question):\n",
    "    sentence = []\n",
    "    for q in question.split(\" \"):\n",
    "        # 执行了 4\n",
    "        if q not in q_low_ratio:\n",
    "            # 执行了 2,3\n",
    "            text = sub_word(q)\n",
    "            # 执行了 1\n",
    "            if text and text not in stopwords.words(\"english\"):\n",
    "                # 执行了 5\n",
    "                if is_number(text):\n",
    "                    text = \"#number\"\n",
    "                else:\n",
    "                    # 执行了 6\n",
    "                    text = ps.stem(text)\n",
    "                sentence.append(text)\n",
    "    return \" \".join(sentence)"
   ]
  },
  {
   "cell_type": "code",
   "execution_count": null,
   "metadata": {},
   "outputs": [],
   "source": [
    "#对于qlist, alist做文本预处理操作。 可以考虑以下几种操作：\n",
    "#1. 停用词过滤 （去网上搜一下 \"english stop words list\"，会出现很多包含停用词库的网页，或者直接使用NLTK自带的）   \n",
    "#2. 转换成lower_case： 这是一个基本的操作   \n",
    "#3. 去掉一些无用的符号： 比如连续的感叹号！！！， 或者一些奇怪的单词。\n",
    "#4. 去掉出现频率很低的词：比如出现次数少于10,20....\n",
    "#5. 对于数字的处理： 分词完只有有些单词可能就是数字比如44，415，把所有这些数字都看成是一个单词，这个新的单词我们可以定义为 \"#number\"\n",
    "# 6. stemming（利用porter stemming): 因为是英文，所以stemming也是可以做的工作\n",
    "# 7. 其他（如果有的话）\n",
    "#  请注意，不一定要按照上面的顺序来处理，具体处理的顺序思考一下，然后选择一个合理的顺序\n",
    "qlist_len = len(qlist)\n",
    "new_qlist = []\n",
    "for n, question in enumerate(qlist):\n",
    "    nq = text_preprocessing(question)\n",
    "    new_qlist.append(nq)\n",
    "#     print(\"已完成%d，已完成%.2f\"%(n, (n*100)/qlist_len)+\" %\")\n",
    "qlist, alist = new_qlist, alist  # 更新后的"
   ]
  },
  {
   "cell_type": "code",
   "execution_count": 37,
   "metadata": {},
   "outputs": [],
   "source": [
    "#根据每个单词在文档的次数和总次数的占比决定的（以上选取低于 0.00002以下的及出现少于13次的去掉）"
   ]
  },
  {
   "cell_type": "markdown",
   "metadata": {},
   "source": [
    "### 文本表示\n",
    "当我们做完关键的预处理过程之后，就需要把每一个文本转换成向量。"
   ]
  },
  {
   "cell_type": "code",
   "execution_count": 10,
   "metadata": {},
   "outputs": [],
   "source": [
    "# 生成 tfidf vectorizer\n",
    "def gen_tfidf(x, D, ds ,dw):\n",
    "    \"\"\"\n",
    "    x: 输入的句子\n",
    "    D: 词典\n",
    "    ds: 总文档数\n",
    "    dw：文档所有的单词的词频\n",
    "    \"\"\"\n",
    "    q = Counter(x.split(\" \"))\n",
    "    sentence_len = len(q)\n",
    "    vectorizer = []  # 定义一个tf-idf的vectorizer\n",
    "    for d in D:\n",
    "        w_count = q.get(d,0)\n",
    "        if w_count == 0:\n",
    "            w_c = 0\n",
    "        else:\n",
    "            tf = w_count/sentence_len\n",
    "            idf = np.log(ds/dw[d])\n",
    "            w_c = tf*idf\n",
    "        vectorizer.append(w_c)\n",
    "    return vectorizer"
   ]
  },
  {
   "cell_type": "code",
   "execution_count": 11,
   "metadata": {
    "scrolled": false
   },
   "outputs": [],
   "source": [
    "# 把qlist中的每一个问题字符串转换成tf-idf向量, 转换之后的结果存储在X矩阵里。 X的大小是： N* D的矩阵。 这里N是问题的个数（样本个数），\n",
    "# D是字典库的大小。\n",
    "D = list(set(list(itertools.chain.from_iterable([q.split(\" \") for q in qlist]))))\n",
    "doc_wcount = {}\n",
    "for d in D:\n",
    "    count = 0\n",
    "    for q in qlist:\n",
    "        if d in q:\n",
    "            count += 1\n",
    "    doc_wcount[d] = count\n",
    "docs, X ,v_count= len(qlist), [], 0\n",
    "for question in qlist:\n",
    "    vectorizer = gen_tfidf(question,D,docs,doc_wcount)\n",
    "    v_count += len([v for v in vectorizer if v != 0])\n",
    "    # X =   # 结果存放在X矩阵\n",
    "    X.append(vectorizer)"
   ]
  },
  {
   "cell_type": "code",
   "execution_count": 12,
   "metadata": {},
   "outputs": [
    {
     "name": "stdout",
     "output_type": "stream",
     "text": [
      "sparsity is 99.87 %\n"
     ]
    }
   ],
   "source": [
    "# 计算一下它的稀疏度\n",
    "sparsity = 1-(v_count/(len(D)*len(qlist)))\n",
    "print(\"sparsity is %.2f %%\"% (sparsity*100))  # 打印出稀疏度(sparsity)"
   ]
  },
  {
   "cell_type": "markdown",
   "metadata": {},
   "source": [
    "### 对于用户的输入问题，找到相似度最高的TOP5问题，并把5个潜在的答案做返回"
   ]
  },
  {
   "cell_type": "code",
   "execution_count": 13,
   "metadata": {},
   "outputs": [],
   "source": [
    "def cosine(x,y):\n",
    "    x, y = np.array(x), np.array(y)\n",
    "    nu = np.dot(x,y)\n",
    "    de = np.linalg.norm(x)*np.linalg.norm(y)\n",
    "    if de == 0:\n",
    "        return 0\n",
    "    cos =  nu/de\n",
    "    return 0.5 + 0.5 *cos"
   ]
  },
  {
   "cell_type": "code",
   "execution_count": 14,
   "metadata": {},
   "outputs": [],
   "source": [
    "def top5results(input_q):\n",
    "    \"\"\"\n",
    "    给定用户输入的问题 input_q, 返回最有可能的TOP 5问题。这里面需要做到以下几点：\n",
    "    1. 对于用户的输入 input_q 首先做一系列的预处理，然后再转换成tf-idf向量（利用上面的vectorizer)\n",
    "    2. 计算跟每个库里的问题之间的相似度\n",
    "    3. 找出相似度最高的top5问题的答案\n",
    "    \"\"\"\n",
    "    input_q = text_preprocessing(input_q)\n",
    "    vec = gen_tfidf(input_q, D, docs, doc_wcount)\n",
    "    top_idxs = sorted([[alist[n],cosine(x,vec)] for n, x in enumerate(X)],key=lambda x: x[1])\n",
    "    return top_idxs[-5:]  # 返回相似度最高的问题对应的答案，作为TOP5答案    "
   ]
  },
  {
   "cell_type": "code",
   "execution_count": 15,
   "metadata": {},
   "outputs": [
    {
     "name": "stdout",
     "output_type": "stream",
     "text": [
      "[['ten nominations', 0.8572919521579055], ['ten', 0.8904413437327359], ['52 nominations', 0.9267350551836099], ['52', 0.9267350551836099], ['Lauryn Hill', 1.0]]\n",
      "[['Fanny Vandegrift Stevenson', 0.7291858842423264], ['November 1806', 0.7573503059230023], ['city was spared for a negotiated ransom of 200,000 thalers', 0.7573503059230023], ['Prince Antoni Radziwiłł', 0.8086512788719262], ['Prince Antoni Radziwiłł', 0.9737760483460378]]\n"
     ]
    }
   ],
   "source": [
    "# 编写几个测试用例，并输出结果\n",
    "print (top5results(\"beyonc grammi nomin femal\"))\n",
    "print (top5results(\"trip back berlin chopin guest\"))"
   ]
  },
  {
   "cell_type": "markdown",
   "metadata": {},
   "source": [
    "###  利用倒排表的优化。 \n",
    "上面的算法，一个最大的缺点是每一个用户问题都需要跟库里的所有的问题都计算相似度。假设我们库里的问题非常多，这将是效率非常低的方法。 这里面一个方案是通过倒排表的方式，先从库里面找到跟当前的输入类似的问题描述。然后针对于这些candidates问题再做余弦相似度的计算。这样会节省大量的时间。"
   ]
  },
  {
   "cell_type": "code",
   "execution_count": 16,
   "metadata": {},
   "outputs": [],
   "source": [
    "#基于倒排表的优化。在这里，我们可以定义一个类似于hash_map, 比如 inverted_index = {}， 然后存放包含每一个关键词的文档出现在了什么位置，\n",
    "#也就是，通过关键词的搜索首先来判断包含这些关键词的文档（比如出现至少一个），然后对于candidates问题做相似度比较。\n",
    "\n",
    "def top5results_invidx(input_q):\n",
    "    \"\"\"\n",
    "    给定用户输入的问题 input_q, 返回最有可能的TOP 5问题。这里面需要做到以下几点：\n",
    "    1. 利用倒排表来筛选 candidate\n",
    "    2. 对于用户的输入 input_q 首先做一系列的预处理，然后再转换成tf-idf向量（利用上面的vectorizer)\n",
    "    3. 计算跟每个库里的问题之间的相似度\n",
    "    4. 找出相似度最高的top5问题的答案\n",
    "    \"\"\"\n",
    "    inverted_idx = {d:[X[n] for n,q in enumerate(qlist)if d in q]for d in D}  # 定一个一个简单的倒排表\n",
    "    input_q = text_preprocessing(input_q)\n",
    "    vec = gen_tfidf(input_q, D, docs, doc_wcount)\n",
    "    # 选取候选集\n",
    "    candidate = []\n",
    "    for q in input_q.split(\" \"):\n",
    "        iiq = inverted_idx.get(q,None)\n",
    "        if iiq:\n",
    "            candidate += iiq\n",
    "    top_idxs = sorted([[alist[n],cosine(x,vec)] for n, x in enumerate(candidate)],key=lambda x: x[1])\n",
    "    return top_idxs[-5:]  # 返回相似度最高的问题对应的答案，作为TOP5答案    "
   ]
  },
  {
   "cell_type": "code",
   "execution_count": 17,
   "metadata": {},
   "outputs": [
    {
     "name": "stdout",
     "output_type": "stream",
     "text": [
      "[['People', 0.9267350551836099], ['Dangerously in Love Tour', 1.0], ['greatest entertainer alive', 1.0], ['2006', 1.0], ['Drake', 1.0]]\n",
      "[['Jay Z', 0.8086512788719262], ['in the late 1990s', 0.9737760483460378], ['Dreamgirls', 0.9737760483460378], ['four', 0.9737760483460378], ['Forbes', 0.9737760483460378]]\n"
     ]
    }
   ],
   "source": [
    "#编写几个测试用例，并输出结果\n",
    "print (top5results_invidx(\"beyonc grammi nomin femal\"))\n",
    "print (top5results_invidx(\"trip back berlin chopin guest\"))"
   ]
  },
  {
   "cell_type": "markdown",
   "metadata": {},
   "source": [
    "### 基于词向量的文本表示\n",
    "上面所用到的方法论是基于词袋模型（bag-of-words model）。这样的方法论有两个主要的问题：1. 无法计算词语之间的相似度  2. 稀疏度很高。 在2.7里面我们\n",
    "讲采用词向量作为文本的表示。词向量方面需要下载： https://nlp.stanford.edu/projects/glove/ （请下载glove.6B.zip），并使用d=100的词向量（100维）。\n"
   ]
  },
  {
   "cell_type": "code",
   "execution_count": 51,
   "metadata": {},
   "outputs": [],
   "source": [
    "with open(\"./data/glove.6B.100d.txt\",encoding=\"utf8\")as f:\n",
    "    emb = {d.split(\" \")[0]: d.strip().split(\" \")[1:] for d in f.readlines()if d}\n",
    "inverted_idx = {d:[qlist[n] for n,q in enumerate(qlist)if d in q]for d in D}  # 定一个一个简单的倒排表"
   ]
  },
  {
   "cell_type": "code",
   "execution_count": 52,
   "metadata": {},
   "outputs": [],
   "source": [
    "def gen_sentence_vec(w2v,sentence):\n",
    "    if not type(sentence) is list:\n",
    "        sentence = sentence.split(\" \")\n",
    "    _vec, count = [], len(sentence)\n",
    "    if count == 0:\n",
    "        return 0\n",
    "    for w in sentence:\n",
    "        wv = w2v.get(w,None)\n",
    "        if wv:\n",
    "            wv = list(map(float,wv))\n",
    "            _vec.append(wv)\n",
    "    s2v = (np.sum(np.array(_vec),axis=0) / count)\n",
    "    return s2v.tolist()"
   ]
  },
  {
   "cell_type": "code",
   "execution_count": 59,
   "metadata": {},
   "outputs": [],
   "source": [
    "# 读取每一个单词的嵌入。这个是 D*H的矩阵，这里的D是词典库的大小， H是词向量的大小。 这里面我们给定的每个单词的词向量，那句子向量怎么表达？\n",
    "# 其中，最简单的方式 句子向量 = 词向量的平均（出现在问句里的）， 如果给定的词没有出现在词典库里，则忽略掉这个词。\n",
    "\n",
    "def top5results_emb(input_q):\n",
    "    \"\"\"\n",
    "    给定用户输入的问题 input_q, 返回最有可能的TOP 5问题。这里面需要做到以下几点：\n",
    "    1. 利用倒排表来筛选 candidate\n",
    "    2. 对于用户的输入 input_q，转换成句子向量\n",
    "    3. 计算跟每个库里的问题之间的相似度\n",
    "    4. 找出相似度最高的top5问题的答案\n",
    "    \"\"\"\n",
    "    input_q = text_preprocessing(input_q)\n",
    "    vec = gen_sentence_vec(emb,input_q)\n",
    "    # 选取候选集\n",
    "    candidate = []\n",
    "    for q in input_q.split(\" \"):\n",
    "        # iiq 是文档\n",
    "        iiq = inverted_idx.get(q,None)\n",
    "        if iiq:\n",
    "            sen2vce = gen_sentence_vec(emb,iiq)\n",
    "            candidate.append(sen2vce)\n",
    "    top_idxs = sorted([[alist[n],cosine(x,vec)] for n, x in enumerate(candidate)],key=lambda x: x[1])\n",
    "    return top_idxs[-5:]  # 返回相似度最高的问题对应的答案，作为TOP5答案    "
   ]
  },
  {
   "cell_type": "code",
   "execution_count": 60,
   "metadata": {},
   "outputs": [
    {
     "name": "stdout",
     "output_type": "stream",
     "text": [
      "[['singing and dancing', 0], ['2003', 0], ['Houston, Texas', 0], ['in the late 1990s', 1.0]]\n",
      "[['in the late 1990s', 0], ['Houston, Texas', 0], ['2003', 0.8464751821925707], ['singing and dancing', 0.8818963094195704]]\n"
     ]
    }
   ],
   "source": [
    "# 编写几个测试用例，并输出结果\n",
    "print (top5results_emb(\"beyonc grammi nomin femal\"))\n",
    "print (top5results_emb(\"trip back berlin chopin guest\"))"
   ]
  }
 ],
 "metadata": {
  "kernelspec": {
   "display_name": "Python 3",
   "language": "python",
   "name": "python3"
  },
  "language_info": {
   "codemirror_mode": {
    "name": "ipython",
    "version": 3
   },
   "file_extension": ".py",
   "mimetype": "text/x-python",
   "name": "python",
   "nbconvert_exporter": "python",
   "pygments_lexer": "ipython3",
   "version": "3.7.0"
  }
 },
 "nbformat": 4,
 "nbformat_minor": 2
}
